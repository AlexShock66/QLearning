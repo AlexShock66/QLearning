{
 "cells": [
  {
   "cell_type": "code",
   "execution_count": 1,
   "metadata": {},
   "outputs": [
    {
     "name": "stderr",
     "output_type": "stream",
     "text": [
      "/var/folders/rv/0pm7xkrn78b0t6cj8q0391r40000gn/T/ipykernel_24723/2548287881.py:4: DeprecationWarning: \n",
      "Pyarrow will become a required dependency of pandas in the next major release of pandas (pandas 3.0),\n",
      "(to allow more performant data types, such as the Arrow string type, and better interoperability with other libraries)\n",
      "but was not found to be installed on your system.\n",
      "If this would cause problems for you,\n",
      "please provide us feedback at https://github.com/pandas-dev/pandas/issues/54466\n",
      "        \n",
      "  import pandas as pd\n"
     ]
    }
   ],
   "source": [
    "import numpy as np\n",
    "import pprint\n",
    "from functools import lru_cache\n",
    "import pandas as pd\n",
    "import matplotlib.pyplot as plt\n",
    "pp = pprint.PrettyPrinter(indent=4)\n",
    "NUM_ROWS = 3\n",
    "NUM_COLS = 4\n"
   ]
  },
  {
   "cell_type": "code",
   "execution_count": 2,
   "metadata": {},
   "outputs": [],
   "source": [
    "arrs = []\n",
    "cnt = 1\n",
    "A = (\"Up\",\"Right\",\"Down\",\"Left\",\"None\")\n",
    "S = [i +1 for i in range(NUM_COLS * NUM_ROWS)]\n",
    "for i in range(NUM_COLS):\n",
    "    arr=[]\n",
    "    for j in range(NUM_ROWS):\n",
    "        arr.append([cnt])\n",
    "        cnt = cnt + 1\n",
    "    arrs.append(np.array(arr))\n",
    "grid = np.hstack(arrs)\n",
    "def rc_to_s(tpl):\n",
    "    return grid[tpl[0] - 1,tpl[1] - 1]\n",
    "\n",
    "def show_layout(_arr):\n",
    "    pp.pprint(np.flip(_arr.reshape(NUM_ROWS,NUM_COLS),axis=0))\n",
    "def s_to_rc(val):\n",
    "    for i,x in enumerate(grid):\n",
    "        for j,y in enumerate(x):\n",
    "            if y == val:\n",
    "                return (i + 1,j + 1)\n",
    "    raise RuntimeError(f\"{val} Is not a valid state in s_to_rc function. Terminiating\")\n"
   ]
  },
  {
   "cell_type": "code",
   "execution_count": 3,
   "metadata": {},
   "outputs": [],
   "source": [
    "def is_terminal(val):\n",
    "    terminal_states = [5,11,12]\n",
    "    return val in terminal_states"
   ]
  },
  {
   "cell_type": "code",
   "execution_count": 4,
   "metadata": {},
   "outputs": [],
   "source": [
    "def actions(state):\n",
    "    if state in [11,12]: #Absorbing States\n",
    "        return [\"None\"]\n",
    "    if state in [5]: #Illegal State\n",
    "        return [\"None\"]\n",
    "    return [\"Up\",\"Left\",\"Down\",\"Right\"]"
   ]
  },
  {
   "cell_type": "code",
   "execution_count": 5,
   "metadata": {},
   "outputs": [
    {
     "name": "stdout",
     "output_type": "stream",
     "text": [
      "array([[0., 0., 0., 0.],\n",
      "       [0., 0., 0., 1.],\n",
      "       [0., 0., 0., 0.]])\n"
     ]
    }
   ],
   "source": [
    "@lru_cache\n",
    "def calc_transition(s,action):\n",
    "    if action not in A:\n",
    "        raise RuntimeError(f\"Invalid Action from state {s} (action = {action})\")\n",
    "    # if len(s) > 1:\n",
    "    #     return calc_transition(s,action)\n",
    "    if not (isinstance(s,int)):\n",
    "        return np.array([calc_transition(_s,action=action) for _s in s]).reshape(-1,len(s)).T\n",
    "    #IF s is terminal state return 1 at vector length and return vector\n",
    "    if s == 11 or s == 12 or s == 5 or action == \"None\":\n",
    "        P = np.zeros((NUM_ROWS,NUM_COLS))\n",
    "        r,c = s_to_rc(s)\n",
    "        P[r-1,c-1] = 1\n",
    "        return P.flatten()\n",
    "\n",
    "    action_to_delta = {\n",
    "        \"Up\":(1,0),\n",
    "        \"Down\":(-1,0),\n",
    "        \"Right\":(0,1),\n",
    "        \"Left\":(0,-1)\n",
    "    }\n",
    "    try:\n",
    "        dr,dc = action_to_delta[action]\n",
    "    except KeyError as e:\n",
    "        raise RuntimeError(f\"Invalid action mapping for action \\\"{action}\\\"\")\n",
    "    r,c = s_to_rc(s)\n",
    "\n",
    "    if dr!= 0 and dc != 0:\n",
    "        raise RuntimeError(\"You cannot not diagonally\")\n",
    "\n",
    "    P = np.zeros(shape=(NUM_ROWS,NUM_COLS))\n",
    "\n",
    "    if dr != 0:\n",
    "        new_r = r + dr\n",
    "        if new_r > NUM_ROWS or new_r < 1:\n",
    "            new_r = r\n",
    "        if new_r == 2 and c == 2:\n",
    "            new_r = r\n",
    "        P[new_r -1, c -1] = 0.8\n",
    "        if c < NUM_COLS and not (r == 2 and (c + 1) == 2):\n",
    "            P[r - 1, c] = 0.1\n",
    "        else:\n",
    "            P[r-1, c -1] = P[r-1,c-1] + 0.1\n",
    "        if c > 1 and not (r == 2 and (c -1) == 2):\n",
    "            P[r - 1, c - 2] = 0.1\n",
    "        else:\n",
    "            P[r-1, c-1] = P[r-1,c-1] + 0.1\n",
    "\n",
    "    if dc != 0:\n",
    "        new_c = c  +dc\n",
    "        if new_c > NUM_COLS or new_c < 1:\n",
    "            new_c = c\n",
    "        if r == 2 and new_c == 2:\n",
    "            new_c = c\n",
    "        P[r -1, new_c -1] = 0.8\n",
    "\n",
    "        if r <NUM_ROWS and not (r+1 == 2 and c == 2):\n",
    "            P[r, c-1] = 0.1\n",
    "        else:\n",
    "            P[r-1,c-1] = P[r-1,c-1] + 0.1\n",
    "        \n",
    "        if r > 1 and not (r-1 == 2 and c== 2):\n",
    "            P[r-2,c-1] = 0.1\n",
    "        else:\n",
    "            P[r-1,c-1] = P[r-1,c-1] + 0.1\n",
    "    \n",
    "    return P.flatten()\n",
    "\n",
    "show_layout(calc_transition(11,\"Right\")) "
   ]
  },
  {
   "cell_type": "code",
   "execution_count": 6,
   "metadata": {},
   "outputs": [
    {
     "name": "stdout",
     "output_type": "stream",
     "text": [
      "0\n"
     ]
    }
   ],
   "source": [
    "# P_matricies = {a:calc_transition(S,a) for a in A} # Ask Dr. Hahsler on this one (Python vs r vectors causing lookup problems so i just lru cache the functions for speed)\n",
    "\n",
    "\n",
    "\n",
    "@lru_cache\n",
    "def P(sp,s,a):\n",
    "    _mtx = calc_transition(s,a).reshape(NUM_ROWS,NUM_COLS)\n",
    "    r,c = s_to_rc(sp)\n",
    "    return _mtx[r-1, c-1]\n",
    "    # pp.pprint(_mtx.reshape(NUM_ROWS,NUM_COLS))\n",
    "\n",
    "def R(s,a,s_prime):\n",
    "    if a == \"None\" or s == 11 or s == 12:\n",
    "        return 0\n",
    "    if s_prime == 12:\n",
    "        return 1\n",
    "    if s_prime == 11:\n",
    "        return -1\n",
    "    \n",
    "    return(-0.04)\n",
    "\n",
    "# print(P(5,4,\"Up\"))\n",
    "print(R(12,\"None\",12))\n"
   ]
  },
  {
   "cell_type": "code",
   "execution_count": 7,
   "metadata": {},
   "outputs": [
    {
     "name": "stdout",
     "output_type": "stream",
     "text": [
      "array([['Right', 'Right', 'Right', 'Up'],\n",
      "       ['Up', 'Up', 'Up', 'Up'],\n",
      "       ['Up', 'Up', 'Up', 'Up']], dtype='<U5')\n",
      "array([['Right', 'Up', 'Right', 'None'],\n",
      "       ['Down', 'None', 'Up', 'None'],\n",
      "       ['Down', 'Up', 'Down', 'Right']], dtype='<U5')\n",
      "array([['Right', 'Left', 'Up', 'None'],\n",
      "       ['Left', 'None', 'Up', 'None'],\n",
      "       ['Left', 'Right', 'Down', 'Right']], dtype='<U5')\n"
     ]
    }
   ],
   "source": [
    "pi_manual = [\"Up\"] * len(S)\n",
    "pi_manual[10] = \"Right\"\n",
    "pi_manual[9] = \"Right\"\n",
    "pi_manual[8] = \"Right\"\n",
    "pi_manual = np.array(pi_manual)\n",
    "show_layout(pi_manual)\n",
    "\n",
    "def generate_random_deterministic_policy():\n",
    "    return np.array([np.random.choice(actions(s)) for a in grid for s in a]) #Return random action based on possible actions given some state s\n",
    "\n",
    "\n",
    "\n",
    "pi_random = generate_random_deterministic_policy()\n",
    "show_layout(pi_random)\n",
    "\n",
    "def make_policy_soft(pi,epsilon=0.1):\n",
    "    _pi = pi.reshape(NUM_ROWS,NUM_COLS)\n",
    "    if not isinstance(pi,type(np.array([]))):\n",
    "        raise RuntimeError(\"Policy is not a deterministic policy\")\n",
    "    mtx = []\n",
    "    for s in S:\n",
    "        _row = {a:epsilon / len(actions(s)) for a in actions(s)} \n",
    "\n",
    "        r,c = s_to_rc(s)\n",
    "        # act_index = actions(s).index(_pi[r-1,c-1])\n",
    "        _row[_pi[r-1,c-1]] = _row[_pi[r-1,c-1]] + (1- epsilon)\n",
    "        mtx.append(_row)\n",
    "    res = pd.DataFrame(mtx).fillna(0)\n",
    "    res.index = [i + 1 for i in res.index]\n",
    "    return res[['Up','Right','Down','Left','None']]\n",
    "# pp.pprint(make_policy_soft(pi_random))\n",
    "\n",
    "pi_test = np.array([\n",
    "    ['Left','Right','Down',\"Right\"],\n",
    "    ['Left','None','Up',\"None\"],\n",
    "    ['Right','Left','Up',\"None\"],\n",
    "]\n",
    ")\n",
    "def make_random_epsilon_policy(epsilon=0.1): #Ask Hahsler about this one\n",
    "\n",
    "    mtx = []\n",
    "    for s in S:\n",
    "        _row = {a:np.random.rand() for a in actions(s)} \n",
    "        _row = {k:v/np.sum([_v for _v in _row.values()]) for k,v in _row.items()}\n",
    "        mtx.append(_row)\n",
    "    res = pd.DataFrame(mtx).fillna(0)\n",
    "    res.index = [i + 1 for i in res.index]\n",
    "    return res[['Up','Right','Down','Left','None']]\n",
    "show_layout(pi_test)"
   ]
  },
  {
   "cell_type": "markdown",
   "metadata": {},
   "source": [
    "## 3.6 Expected Utility"
   ]
  },
  {
   "cell_type": "code",
   "execution_count": 8,
   "metadata": {},
   "outputs": [],
   "source": [
    "GAMMA = 1"
   ]
  },
  {
   "cell_type": "code",
   "execution_count": 9,
   "metadata": {},
   "outputs": [
    {
     "data": {
      "text/plain": [
       "4"
      ]
     },
     "execution_count": 9,
     "metadata": {},
     "output_type": "execute_result"
    }
   ],
   "source": [
    "# show_layout(calc_transition(1,\"Up\"))\n",
    "def sample_transition(s,a):\n",
    "    tmp = calc_transition(s,a).reshape(NUM_ROWS,NUM_COLS).T.flatten()\n",
    "    return np.random.choice([i + 1 for i in range(len(tmp))],p=tmp)\n",
    "sample_transition(1,\"Up\")"
   ]
  },
  {
   "cell_type": "code",
   "execution_count": 10,
   "metadata": {},
   "outputs": [
    {
     "name": "stdout",
     "output_type": "stream",
     "text": [
      "[[ 1  2  4]\n",
      " [10 79 11]]\n"
     ]
    }
   ],
   "source": [
    "val, count = np.unique([sample_transition(1,\"Up\") for i in range(100)],return_counts=True)\n",
    "print(np.vstack([val,count]))"
   ]
  },
  {
   "cell_type": "code",
   "execution_count": 11,
   "metadata": {},
   "outputs": [],
   "source": [
    "def simulate_utility(pi,s0=1,max_t=100):\n",
    "    s = s0\n",
    "    U = 0\n",
    "    t = 0\n",
    "\n",
    "    while True:\n",
    "        s = int(s)\n",
    "        if not isinstance(pi,type(pd.DataFrame())):\n",
    "            # print(\"Not dataframe\")\n",
    "            # print(pi.reshape(NUM_ROWS,NUM_COLS).T.flatten())\n",
    "            a = pi.reshape(NUM_ROWS,NUM_COLS).T.flatten()[s - 1]\n",
    "        else:\n",
    "            a = np.random.choice(pi.columns,p=np.array(pi.loc[s]))\n",
    "        \n",
    "        s_prime = sample_transition(s,a)\n",
    "        U = U + np.power(GAMMA,t) * R(s,a,s_prime)\n",
    "        s = s_prime\n",
    "\n",
    "        if s == 11 or s == 12 or s ==5:\n",
    "            break\n",
    "        t = t + 1\n",
    "        if t >= max_t:\n",
    "            break\n",
    "    return U\n"
   ]
  },
  {
   "cell_type": "code",
   "execution_count": 72,
   "metadata": {},
   "outputs": [],
   "source": [
    "def simulate_utilities(pi,s0=1,N=1000,max_t=100):\n",
    "    return np.array([simulate_utility(pi,s0=s0,max_t=max_t) for i in range(N)])\n",
    "# simulate_utility(pi_manual)"
   ]
  },
  {
   "cell_type": "code",
   "execution_count": 30,
   "metadata": {},
   "outputs": [],
   "source": [
    "def plot_expected_utility(utilz):\n",
    "    utilz = np.array(utilz)\n",
    "    print(f'Mean of utilities: {np.mean(utilz)}')\n",
    "    # counts, bins = np.histogram(utilz)\n",
    "    plt.hist(utilz)"
   ]
  },
  {
   "cell_type": "code",
   "execution_count": 73,
   "metadata": {},
   "outputs": [
    {
     "name": "stdout",
     "output_type": "stream",
     "text": [
      "Mean of utilities: 0.7278\n"
     ]
    },
    {
     "data": {
      "image/png": "[encoded data removed]",
      "text/plain": [
       "<Figure size 640x480 with 1 Axes>"
      ]
     },
     "metadata": {},
     "output_type": "display_data"
    }
   ],
   "source": [
    "plot_expected_utility(simulate_utilities(pi_manual))"
   ]
  },
  {
   "cell_type": "code",
   "execution_count": 32,
   "metadata": {},
   "outputs": [
    {
     "name": "stdout",
     "output_type": "stream",
     "text": [
      "Mean of utilities: -3.089880000000001\n"
     ]
    },
    {
     "data": {
      "image/png": "[encoded data removed]",
      "text/plain": [
       "<Figure size 640x480 with 1 Axes>"
      ]
     },
     "metadata": {},
     "output_type": "display_data"
    }
   ],
   "source": [
    "utility_random = np.array([simulate_utility(pi_random) for i in range(1000)])\n",
    "plot_expected_utility(utility_random)"
   ]
  },
  {
   "cell_type": "code",
   "execution_count": 75,
   "metadata": {},
   "outputs": [
    {
     "name": "stdout",
     "output_type": "stream",
     "text": [
      "array([[ 0.85536,  0.90484,  0.9648 ,  0.     ],\n",
      "       [ 0.81324, -0.04   ,  0.6964 ,  0.     ],\n",
      "       [ 0.7008 ,  0.39248,  0.466  , -0.83192]])\n"
     ]
    }
   ],
   "source": [
    "def get_utility_map(pi):\n",
    "    # for i,x in enumerate(pi.flatten()):\n",
    "    # show_layout(np.array([ i for i,x in enumerate(pi.flatten())]))\n",
    "    vals = []\n",
    "    for s,a in zip(grid.flatten(),pi.flatten()):\n",
    "        # vals.append(f\"{s}:{a}\")\n",
    "        vals.append(np.mean(simulate_utilities(pi,s0=s)))\n",
    "    # show_layout(np.array(vals))\n",
    "    return np.array(vals)\n",
    "\n",
    "\n",
    "show_layout(get_utility_map(pi_manual))"
   ]
  },
  {
   "cell_type": "code",
   "execution_count": 84,
   "metadata": {},
   "outputs": [
    {
     "name": "stdout",
     "output_type": "stream",
     "text": [
      "3\n"
     ]
    }
   ],
   "source": [
    "def argmax(x):\n",
    "    y = np.where(x == np.max(x))[0]\n",
    "    if len(y) > 1:\n",
    "        return np.random.choice(y, 1)[0]\n",
    "    else:\n",
    "        return y[0]\n",
    "\n"
   ]
  },
  {
   "cell_type": "code",
   "execution_count": 86,
   "metadata": {},
   "outputs": [],
   "source": [
    "import numpy as np\n",
    "\n",
    "class QL_Agent:\n",
    "    def __init__(self, S, A, gamma=1):\n",
    "        self.S = S\n",
    "        self.A = A\n",
    "        self.Q = np.zeros((len(S), len(A)))\n",
    "        self.N = np.zeros((len(S), len(A)), dtype=int)\n",
    "        self.s = None\n",
    "        self.a = 'None'\n",
    "        self.gamma = gamma\n",
    "\n",
    "    def next_episode(self):\n",
    "        \"\"\"Start a new episode.\"\"\"\n",
    "        self.s = None\n",
    "        self.a = 'None'\n",
    "\n",
    "    def reset(self):\n",
    "        \"\"\"Reset the agent's state and erase all persistent information.\"\"\"\n",
    "        # Set q-values to 0 except use NA for unavailable actions\n",
    "        self.Q = np.zeros((len(self.S), len(self.A)))\n",
    "        for i, s in enumerate(self.S):\n",
    "            _actions = actions(s)\n",
    "            for j, a in enumerate(self.A):\n",
    "                if a in _actions:\n",
    "                    self.Q[i, j] = 0\n",
    "                else:\n",
    "                    self.Q[i, j] = np.nan\n",
    "        self.N = np.zeros((len(self.S), len(self.A)), dtype=int)\n",
    "        self.next_episode()\n",
    "\n",
    "\n",
    "# Example usage:\n",
    "\n",
    "agent = QL_Agent(S, A)\n",
    "agent.reset()\n"
   ]
  },
  {
   "cell_type": "code",
   "execution_count": null,
   "metadata": {},
   "outputs": [],
   "source": []
  }
 ],
 "metadata": {
  "kernelspec": {
   "display_name": "q_learn",
   "language": "python",
   "name": "python3"
  },
  "language_info": {
   "codemirror_mode": {
    "name": "ipython",
    "version": 3
   },
   "file_extension": ".py",
   "mimetype": "text/x-python",
   "name": "python",
   "nbconvert_exporter": "python",
   "pygments_lexer": "ipython3",
   "version": "3.10.13"
  }
 },
 "nbformat": 4,
 "nbformat_minor": 2
}
