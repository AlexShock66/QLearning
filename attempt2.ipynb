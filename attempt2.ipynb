{
 "cells": [
  {
   "cell_type": "code",
   "execution_count": 92,
   "metadata": {},
   "outputs": [],
   "source": [
    "import numpy as np\n",
    "import pprint\n",
    "from functools import lru_cache\n",
    "import pandas as pd\n",
    "import matplotlib.pyplot as plt\n",
    "pp = pprint.PrettyPrinter(indent=4)\n",
    "NUM_ROWS = 3\n",
    "NUM_COLS = 4\n"
   ]
  },
  {
   "cell_type": "code",
   "execution_count": 8,
   "metadata": {},
   "outputs": [],
   "source": [
    "arrs = []\n",
    "cnt = 1\n",
    "A = (\"Up\",\"Right\",\"Down\",\"Left\",\"None\")\n",
    "S = [i +1 for i in range(NUM_COLS * NUM_ROWS)]\n",
    "for i in range(NUM_COLS):\n",
    "    arr=[]\n",
    "    for j in range(NUM_ROWS):\n",
    "        arr.append([cnt])\n",
    "        cnt = cnt + 1\n",
    "    arrs.append(np.array(arr))\n",
    "grid = np.hstack(arrs)\n",
    "def rc_to_s(tpl):\n",
    "    return grid[tpl[0] - 1,tpl[1] - 1]\n",
    "\n",
    "def show_layout(_arr):\n",
    "    pp.pprint(np.flip(_arr.reshape(NUM_ROWS,NUM_COLS),axis=0))\n",
    "def s_to_rc(val):\n",
    "    for i,x in enumerate(grid):\n",
    "        for j,y in enumerate(x):\n",
    "            if y == val:\n",
    "                return (i + 1,j + 1)\n",
    "    raise RuntimeError(f\"{val} Is not a valid state in s_to_rc function. Terminiating\")\n"
   ]
  },
  {
   "cell_type": "code",
   "execution_count": 9,
   "metadata": {},
   "outputs": [],
   "source": [
    "def is_terminal(val):\n",
    "    terminal_states = [5,11,12]\n",
    "    return val in terminal_states"
   ]
  },
  {
   "cell_type": "code",
   "execution_count": 10,
   "metadata": {},
   "outputs": [],
   "source": [
    "def actions(state):\n",
    "    if state in [11,12]: #Absorbing States\n",
    "        return [\"None\"]\n",
    "    if state in [5]: #Illegal State\n",
    "        return [\"None\"]\n",
    "    return [\"Up\",\"Left\",\"Down\",\"Right\"]"
   ]
  },
  {
   "cell_type": "code",
   "execution_count": 99,
   "metadata": {},
   "outputs": [
    {
     "name": "stdout",
     "output_type": "stream",
     "text": [
      "array([[0., 0., 0., 0.],\n",
      "       [0., 0., 0., 1.],\n",
      "       [0., 0., 0., 0.]])\n"
     ]
    }
   ],
   "source": [
    "@lru_cache\n",
    "def calc_transition(s,action):\n",
    "    if action not in A:\n",
    "        raise RuntimeError(f\"Invalid Action from state {s} (action = {action})\")\n",
    "    # if len(s) > 1:\n",
    "    #     return calc_transition(s,action)\n",
    "    if not (isinstance(s,int)):\n",
    "        return np.array([calc_transition(_s,action=action) for _s in s]).reshape(-1,len(s)).T\n",
    "    #IF s is terminal state return 1 at vector length and return vector\n",
    "    if s == 11 or s == 12 or s == 5 or action == \"None\":\n",
    "        P = np.zeros((NUM_ROWS,NUM_COLS))\n",
    "        r,c = s_to_rc(s)\n",
    "        P[r-1,c-1] = 1\n",
    "        return P.flatten()\n",
    "\n",
    "    action_to_delta = {\n",
    "        \"Up\":(1,0),\n",
    "        \"Down\":(-1,0),\n",
    "        \"Right\":(0,1),\n",
    "        \"Left\":(0,-1)\n",
    "    }\n",
    "    try:\n",
    "        dr,dc = action_to_delta[action]\n",
    "    except KeyError as e:\n",
    "        raise RuntimeError(f\"Invalid action mapping for action \\\"{action}\\\"\")\n",
    "    r,c = s_to_rc(s)\n",
    "\n",
    "    if dr!= 0 and dc != 0:\n",
    "        raise RuntimeError(\"You cannot not diagonally\")\n",
    "\n",
    "    P = np.zeros(shape=(NUM_ROWS,NUM_COLS))\n",
    "\n",
    "    if dr != 0:\n",
    "        new_r = r + dr\n",
    "        if new_r > NUM_ROWS or new_r < 1:\n",
    "            new_r = r\n",
    "        if new_r == 2 and c == 2:\n",
    "            new_r = r\n",
    "        P[new_r -1, c -1] = 0.8\n",
    "        if c < NUM_COLS and not (r == 2 and (c + 1) == 2):\n",
    "            P[r - 1, c] = 0.1\n",
    "        else:\n",
    "            P[r-1, c -1] = P[r-1,c-1] + 0.1\n",
    "        if c > 1 and not (r == 2 and (c -1) == 2):\n",
    "            P[r - 1, c - 2] = 0.1\n",
    "        else:\n",
    "            P[r-1, c-1] = P[r-1,c-1] + 0.1\n",
    "\n",
    "    if dc != 0:\n",
    "        new_c = c  +dc\n",
    "        if new_c > NUM_COLS or new_c < 1:\n",
    "            new_c = c\n",
    "        if r == 2 and new_c == 2:\n",
    "            new_c = c\n",
    "        P[r -1, new_c -1] = 0.8\n",
    "\n",
    "        if r <NUM_ROWS and not (r+1 == 2 and c == 2):\n",
    "            P[r, c-1] = 0.1\n",
    "        else:\n",
    "            P[r-1,c-1] = P[r-1,c-1] + 0.1\n",
    "        \n",
    "        if r > 1 and not (r-1 == 2 and c== 2):\n",
    "            P[r-2,c-1] = 0.1\n",
    "        else:\n",
    "            P[r-1,c-1] = P[r-1,c-1] + 0.1\n",
    "    \n",
    "    return P.flatten()\n",
    "\n",
    "show_layout(calc_transition(11,\"Right\")) "
   ]
  },
  {
   "cell_type": "code",
   "execution_count": 12,
   "metadata": {},
   "outputs": [
    {
     "name": "stdout",
     "output_type": "stream",
     "text": [
      "0\n"
     ]
    }
   ],
   "source": [
    "# P_matricies = {a:calc_transition(S,a) for a in A} # Ask Dr. Hahsler on this one (Python vs r vectors causing lookup problems so i just lru cache the functions for speed)\n",
    "\n",
    "\n",
    "\n",
    "@lru_cache\n",
    "def P(sp,s,a):\n",
    "    _mtx = calc_transition(s,a).reshape(NUM_ROWS,NUM_COLS)\n",
    "    r,c = s_to_rc(sp)\n",
    "    return _mtx[r-1, c-1]\n",
    "    # pp.pprint(_mtx.reshape(NUM_ROWS,NUM_COLS))\n",
    "\n",
    "def R(s,a,s_prime):\n",
    "    if a == \"None\" or s == 11 or s == 12:\n",
    "        return 0\n",
    "    if s_prime == 12:\n",
    "        return 1\n",
    "    if s_prime == 11:\n",
    "        return -1\n",
    "    \n",
    "    return(-0.04)\n",
    "\n",
    "# print(P(5,4,\"Up\"))\n",
    "print(R(12,\"None\",12))\n"
   ]
  },
  {
   "cell_type": "code",
   "execution_count": 13,
   "metadata": {},
   "outputs": [
    {
     "name": "stdout",
     "output_type": "stream",
     "text": [
      "array([['Right', 'Right', 'Right', 'Up'],\n",
      "       ['Up', 'Up', 'Up', 'Up'],\n",
      "       ['Up', 'Up', 'Up', 'Up']], dtype='<U5')\n",
      "array([['Right', 'Up', 'Left', 'None'],\n",
      "       ['Up', 'None', 'Left', 'None'],\n",
      "       ['Right', 'Down', 'Right', 'Left']], dtype='<U5')\n",
      "array([['Right', 'Left', 'Up', 'None'],\n",
      "       ['Left', 'None', 'Up', 'None'],\n",
      "       ['Left', 'Right', 'Down', 'Right']], dtype='<U5')\n"
     ]
    }
   ],
   "source": [
    "pi_manual = [\"Up\"] * len(S)\n",
    "pi_manual[10] = \"Right\"\n",
    "pi_manual[9] = \"Right\"\n",
    "pi_manual[8] = \"Right\"\n",
    "pi_manual = np.array(pi_manual)\n",
    "show_layout(pi_manual)\n",
    "\n",
    "def generate_random_deterministic_policy():\n",
    "    return np.array([np.random.choice(actions(s)) for a in grid for s in a]) #Return random action based on possible actions given some state s\n",
    "\n",
    "\n",
    "\n",
    "pi_random = generate_random_deterministic_policy()\n",
    "show_layout(pi_random)\n",
    "\n",
    "def make_policy_soft(pi,epsilon=0.1):\n",
    "    _pi = pi.reshape(NUM_ROWS,NUM_COLS)\n",
    "    if not isinstance(pi,type(np.array([]))):\n",
    "        raise RuntimeError(\"Policy is not a deterministic policy\")\n",
    "    mtx = []\n",
    "    for s in S:\n",
    "        _row = {a:epsilon / len(actions(s)) for a in actions(s)} \n",
    "\n",
    "        r,c = s_to_rc(s)\n",
    "        # act_index = actions(s).index(_pi[r-1,c-1])\n",
    "        _row[_pi[r-1,c-1]] = _row[_pi[r-1,c-1]] + (1- epsilon)\n",
    "        mtx.append(_row)\n",
    "    res = pd.DataFrame(mtx).fillna(0)\n",
    "    res.index = [i + 1 for i in res.index]\n",
    "    return res[['Up','Right','Down','Left','None']]\n",
    "# pp.pprint(make_policy_soft(pi_random))\n",
    "\n",
    "pi_test = np.array([\n",
    "    ['Left','Right','Down',\"Right\"],\n",
    "    ['Left','None','Up',\"None\"],\n",
    "    ['Right','Left','Up',\"None\"],\n",
    "]\n",
    ")\n",
    "def make_random_epsilon_policy(epsilon=0.1): #Ask Hahsler about this one\n",
    "\n",
    "    mtx = []\n",
    "    for s in S:\n",
    "        _row = {a:np.random.rand() for a in actions(s)} \n",
    "        _row = {k:v/np.sum([_v for _v in _row.values()]) for k,v in _row.items()}\n",
    "        mtx.append(_row)\n",
    "    res = pd.DataFrame(mtx).fillna(0)\n",
    "    res.index = [i + 1 for i in res.index]\n",
    "    return res[['Up','Right','Down','Left','None']]\n",
    "show_layout(pi_test)"
   ]
  },
  {
   "cell_type": "markdown",
   "metadata": {},
   "source": [
    "## 3.6 Expected Utility"
   ]
  },
  {
   "cell_type": "code",
   "execution_count": 43,
   "metadata": {},
   "outputs": [],
   "source": [
    "GAMMA = 1"
   ]
  },
  {
   "cell_type": "code",
   "execution_count": 30,
   "metadata": {},
   "outputs": [
    {
     "data": {
      "text/plain": [
       "2"
      ]
     },
     "execution_count": 30,
     "metadata": {},
     "output_type": "execute_result"
    }
   ],
   "source": [
    "# show_layout(calc_transition(1,\"Up\"))\n",
    "def sample_transition(s,a):\n",
    "    tmp = calc_transition(s,a).reshape(NUM_ROWS,NUM_COLS).T.flatten()\n",
    "    return np.random.choice([i + 1 for i in range(len(tmp))],p=tmp)\n",
    "sample_transition(1,\"Up\")"
   ]
  },
  {
   "cell_type": "code",
   "execution_count": 42,
   "metadata": {},
   "outputs": [
    {
     "name": "stdout",
     "output_type": "stream",
     "text": [
      "[[ 1  2  4]\n",
      " [ 9 83  8]]\n"
     ]
    }
   ],
   "source": [
    "val, count = np.unique([sample_transition(1,\"Up\") for i in range(100)],return_counts=True)\n",
    "print(np.vstack([val,count]))"
   ]
  },
  {
   "cell_type": "code",
   "execution_count": 100,
   "metadata": {},
   "outputs": [],
   "source": [
    "def simulate_utility(pi,s0=1,max_t=100):\n",
    "    s = s0\n",
    "    U = 0\n",
    "    t = 0\n",
    "\n",
    "    while True:\n",
    "        s = int(s)\n",
    "        if not isinstance(pi,type(pd.DataFrame())):\n",
    "            # print(\"Not dataframe\")\n",
    "            # print(pi.reshape(NUM_ROWS,NUM_COLS).T.flatten())\n",
    "            a = pi.reshape(NUM_ROWS,NUM_COLS).T.flatten()[s - 1]\n",
    "        else:\n",
    "            a = np.random.choice(pi.columns,p=np.array(pi.loc[s]))\n",
    "        \n",
    "        s_prime = sample_transition(s,a)\n",
    "        U = U + np.power(GAMMA,t) * R(s,a,s_prime)\n",
    "        s = s_prime\n",
    "\n",
    "        if s == 11 or s == 12 or s ==5:\n",
    "            break\n",
    "        t = t + 1\n",
    "        if t >= max_t:\n",
    "            break\n",
    "    return U\n"
   ]
  },
  {
   "cell_type": "code",
   "execution_count": 116,
   "metadata": {},
   "outputs": [],
   "source": [
    "expected_utils = np.array([simulate_utility(pi_manual) for i in range(1000)])\n",
    "# simulate_utility(pi_manual)"
   ]
  },
  {
   "cell_type": "code",
   "execution_count": 118,
   "metadata": {},
   "outputs": [
    {
     "data": {
      "text/plain": [
       "0.7020799999999999"
      ]
     },
     "execution_count": 118,
     "metadata": {},
     "output_type": "execute_result"
    }
   ],
   "source": [
    "np.mean(expected_utils)"
   ]
  },
  {
   "cell_type": "code",
   "execution_count": 117,
   "metadata": {},
   "outputs": [
    {
     "data": {
      "text/plain": [
       "(array([ 21.,   0.,   0.,   1.,   3.,   4.,  32., 207., 723.,   0.]),\n",
       " array([-1.25, -1.  , -0.75, -0.5 , -0.25,  0.  ,  0.25,  0.5 ,  0.75,\n",
       "         1.  ,  1.25]),\n",
       " <BarContainer object of 10 artists>)"
      ]
     },
     "execution_count": 117,
     "metadata": {},
     "output_type": "execute_result"
    },
    {
     "data": {
      "image/png": "[encoded data removed]",
      "text/plain": [
       "<Figure size 640x480 with 1 Axes>"
      ]
     },
     "metadata": {},
     "output_type": "display_data"
    }
   ],
   "source": [
    "counts, bins = np.histogram(expected_utils)\n",
    "\n",
    "plt.hist(expected_utils,bins=[-1.25,-1.,-.75,-.5,-.25,0,.25,.5,.75,1.,1.25])"
   ]
  },
  {
   "cell_type": "code",
   "execution_count": 107,
   "metadata": {},
   "outputs": [
    {
     "data": {
      "text/plain": [
       "1000"
      ]
     },
     "execution_count": 107,
     "metadata": {},
     "output_type": "execute_result"
    }
   ],
   "source": []
  },
  {
   "cell_type": "code",
   "execution_count": null,
   "metadata": {},
   "outputs": [],
   "source": []
  }
 ],
 "metadata": {
  "kernelspec": {
   "display_name": "q_learn",
   "language": "python",
   "name": "python3"
  },
  "language_info": {
   "codemirror_mode": {
    "name": "ipython",
    "version": 3
   },
   "file_extension": ".py",
   "mimetype": "text/x-python",
   "name": "python",
   "nbconvert_exporter": "python",
   "pygments_lexer": "ipython3",
   "version": "3.10.13"
  }
 },
 "nbformat": 4,
 "nbformat_minor": 2
}
